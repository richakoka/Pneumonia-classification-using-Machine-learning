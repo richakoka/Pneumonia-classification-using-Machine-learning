{
 "cells": [
  {
   "cell_type": "code",
   "execution_count": 1,
   "metadata": {},
   "outputs": [],
   "source": [
    "import numpy as np\n",
    "import pandas as pd\n",
    "import matplotlib.pyplot as plt\n",
    "import os"
   ]
  },
  {
   "cell_type": "code",
   "execution_count": 2,
   "metadata": {},
   "outputs": [],
   "source": [
    "train  = r'C:\\Users\\MyPc\\Desktop\\chest_xray\\train'\n",
    "val  = r'C:\\Users\\MyPc\\Desktop\\chest_xray\\val'\n",
    "test  = r'C:\\Users\\MyPc\\Desktop\\chest_xray\\test'"
   ]
  },
  {
   "cell_type": "code",
   "execution_count": 3,
   "metadata": {},
   "outputs": [],
   "source": [
    "train_n = train + r'\\NORMAL'\n",
    "train_p = train + r'\\PNEUMONIA'\n",
    "val_n = val + r'\\NORMAL'\n",
    "val_p = val + r'\\PNEUMONIA'\n",
    "test_n = test + r'\\NORMAL'\n",
    "test_p = test + r'\\PNEUMONIA'"
   ]
  },
  {
   "cell_type": "code",
   "execution_count": 4,
   "metadata": {},
   "outputs": [],
   "source": [
    "train_n = pd.DataFrame(os.listdir(train_n), columns = ['Image'])\n",
    "train_n['Label'] = \"Normal\"\n",
    "train_p = pd.DataFrame(os.listdir(train_p), columns = ['Image'])\n",
    "train_p['Label'] = \"Pneumonia\"\n",
    "train = pd.concat([train_n, train_p], axis=0)"
   ]
  },
  {
   "cell_type": "code",
   "execution_count": 5,
   "metadata": {},
   "outputs": [],
   "source": [
    "val_n = pd.DataFrame(os.listdir(val_n), columns = ['Image'])\n",
    "val_n['Label'] = \"Normal\"\n",
    "val_p = pd.DataFrame(os.listdir(val_p), columns = ['Image'])\n",
    "val_p['Label'] = \"Pneumonia\"\n",
    "val = pd.concat([val_n, val_p], axis=0)"
   ]
  },
  {
   "cell_type": "code",
   "execution_count": 6,
   "metadata": {},
   "outputs": [],
   "source": [
    "test_n = pd.DataFrame(os.listdir(test_n), columns = ['Image'])\n",
    "test_n['Label'] = \"Normal\"\n",
    "test_p = pd.DataFrame(os.listdir(test_p), columns = ['Image'])\n",
    "test_p['Label'] = \"Pneumonia\"\n",
    "test = pd.concat([test_n, test_p], axis=0)"
   ]
  },
  {
   "cell_type": "code",
   "execution_count": 7,
   "metadata": {},
   "outputs": [
    {
     "data": {
      "text/plain": [
       "((5216, 2), (16, 2), (624, 2))"
      ]
     },
     "execution_count": 7,
     "metadata": {},
     "output_type": "execute_result"
    }
   ],
   "source": [
    "train.shape, val.shape, test.shape"
   ]
  },
  {
   "cell_type": "code",
   "execution_count": 8,
   "metadata": {},
   "outputs": [],
   "source": [
    "train.to_csv(\"train.csv\", index=False)\n",
    "val.to_csv(\"val.csv\", index=False)\n",
    "test.to_csv(\"test.csv\", index=False)"
   ]
  },
  {
   "cell_type": "code",
   "execution_count": null,
   "metadata": {},
   "outputs": [],
   "source": []
  }
 ],
 "metadata": {
  "kernelspec": {
   "display_name": "Pneu",
   "language": "python",
   "name": "pneu"
  },
  "language_info": {
   "codemirror_mode": {
    "name": "ipython",
    "version": 3
   },
   "file_extension": ".py",
   "mimetype": "text/x-python",
   "name": "python",
   "nbconvert_exporter": "python",
   "pygments_lexer": "ipython3",
   "version": "3.6.10"
  }
 },
 "nbformat": 4,
 "nbformat_minor": 4
}
